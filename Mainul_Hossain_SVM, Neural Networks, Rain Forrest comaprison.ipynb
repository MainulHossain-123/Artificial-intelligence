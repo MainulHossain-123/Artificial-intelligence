{
  "nbformat": 4,
  "nbformat_minor": 0,
  "metadata": {
    "colab": {
      "name": " 15341003_Mainul Hossain_Assign06.ipynb",
      "provenance": [],
      "collapsed_sections": []
    },
    "kernelspec": {
      "name": "python3",
      "display_name": "Python 3"
    }
  },
  "cells": [
    {
      "cell_type": "code",
      "metadata": {
        "id": "ih0TpVypo0Rz"
      },
      "source": [
        "#importing all necessary libraries \n",
        "import pandas as pd #Tabular Data Management \n",
        "import numpy as np #Mathematical Calculations\n",
        "import sympy as sp #Complex Calculations\n",
        "import seaborn as sns #Plotting using mapping\n",
        "import matplotlib.pyplot as plt \n",
        "from mpl_toolkits import mplot3d\n",
        "from sklearn.metrics import classification_report\n",
        "from sklearn.metrics import accuracy_score"
      ],
      "execution_count": 394,
      "outputs": []
    },
    {
      "cell_type": "code",
      "metadata": {
        "colab": {
          "base_uri": "https://localhost:8080/",
          "height": 456
        },
        "id": "9vOTToXBpOeQ",
        "outputId": "5546fd4b-4c8a-43a2-c1f7-f34ca09395bb"
      },
      "source": [
        "#reading and initializing dataset\n",
        "dt = pd.read_csv('/content/heart_failur_classification_dataset.csv')\n",
        "dt\n"
      ],
      "execution_count": 395,
      "outputs": [
        {
          "output_type": "execute_result",
          "data": {
            "text/html": [
              "<div>\n",
              "<style scoped>\n",
              "    .dataframe tbody tr th:only-of-type {\n",
              "        vertical-align: middle;\n",
              "    }\n",
              "\n",
              "    .dataframe tbody tr th {\n",
              "        vertical-align: top;\n",
              "    }\n",
              "\n",
              "    .dataframe thead th {\n",
              "        text-align: right;\n",
              "    }\n",
              "</style>\n",
              "<table border=\"1\" class=\"dataframe\">\n",
              "  <thead>\n",
              "    <tr style=\"text-align: right;\">\n",
              "      <th></th>\n",
              "      <th>Unnamed: 0</th>\n",
              "      <th>age</th>\n",
              "      <th>anaemia</th>\n",
              "      <th>creatinine_phosphokinase</th>\n",
              "      <th>diabetes</th>\n",
              "      <th>ejection_fraction</th>\n",
              "      <th>high_blood_pressure</th>\n",
              "      <th>platelets</th>\n",
              "      <th>serum_creatinine</th>\n",
              "      <th>serum_sodium</th>\n",
              "      <th>sex</th>\n",
              "      <th>smoking</th>\n",
              "      <th>time</th>\n",
              "      <th>DEATH_EVENT</th>\n",
              "    </tr>\n",
              "  </thead>\n",
              "  <tbody>\n",
              "    <tr>\n",
              "      <th>0</th>\n",
              "      <td>0</td>\n",
              "      <td>75.0</td>\n",
              "      <td>0</td>\n",
              "      <td>582</td>\n",
              "      <td>0</td>\n",
              "      <td>20</td>\n",
              "      <td>1</td>\n",
              "      <td>265000.00</td>\n",
              "      <td>1.9</td>\n",
              "      <td>NaN</td>\n",
              "      <td>Male</td>\n",
              "      <td>No</td>\n",
              "      <td>4.0</td>\n",
              "      <td>1</td>\n",
              "    </tr>\n",
              "    <tr>\n",
              "      <th>1</th>\n",
              "      <td>1</td>\n",
              "      <td>55.0</td>\n",
              "      <td>0</td>\n",
              "      <td>7861</td>\n",
              "      <td>0</td>\n",
              "      <td>38</td>\n",
              "      <td>0</td>\n",
              "      <td>263358.03</td>\n",
              "      <td>1.1</td>\n",
              "      <td>136.0</td>\n",
              "      <td>Male</td>\n",
              "      <td>No</td>\n",
              "      <td>6.0</td>\n",
              "      <td>1</td>\n",
              "    </tr>\n",
              "    <tr>\n",
              "      <th>2</th>\n",
              "      <td>2</td>\n",
              "      <td>65.0</td>\n",
              "      <td>0</td>\n",
              "      <td>146</td>\n",
              "      <td>0</td>\n",
              "      <td>20</td>\n",
              "      <td>0</td>\n",
              "      <td>162000.00</td>\n",
              "      <td>1.3</td>\n",
              "      <td>129.0</td>\n",
              "      <td>Male</td>\n",
              "      <td>Yes</td>\n",
              "      <td>7.0</td>\n",
              "      <td>1</td>\n",
              "    </tr>\n",
              "    <tr>\n",
              "      <th>3</th>\n",
              "      <td>3</td>\n",
              "      <td>50.0</td>\n",
              "      <td>1</td>\n",
              "      <td>111</td>\n",
              "      <td>0</td>\n",
              "      <td>20</td>\n",
              "      <td>0</td>\n",
              "      <td>210000.00</td>\n",
              "      <td>1.9</td>\n",
              "      <td>137.0</td>\n",
              "      <td>Male</td>\n",
              "      <td>No</td>\n",
              "      <td>7.0</td>\n",
              "      <td>1</td>\n",
              "    </tr>\n",
              "    <tr>\n",
              "      <th>4</th>\n",
              "      <td>4</td>\n",
              "      <td>65.0</td>\n",
              "      <td>1</td>\n",
              "      <td>160</td>\n",
              "      <td>1</td>\n",
              "      <td>20</td>\n",
              "      <td>0</td>\n",
              "      <td>327000.00</td>\n",
              "      <td>2.7</td>\n",
              "      <td>116.0</td>\n",
              "      <td>Female</td>\n",
              "      <td>No</td>\n",
              "      <td>8.0</td>\n",
              "      <td>1</td>\n",
              "    </tr>\n",
              "    <tr>\n",
              "      <th>...</th>\n",
              "      <td>...</td>\n",
              "      <td>...</td>\n",
              "      <td>...</td>\n",
              "      <td>...</td>\n",
              "      <td>...</td>\n",
              "      <td>...</td>\n",
              "      <td>...</td>\n",
              "      <td>...</td>\n",
              "      <td>...</td>\n",
              "      <td>...</td>\n",
              "      <td>...</td>\n",
              "      <td>...</td>\n",
              "      <td>...</td>\n",
              "      <td>...</td>\n",
              "    </tr>\n",
              "    <tr>\n",
              "      <th>294</th>\n",
              "      <td>294</td>\n",
              "      <td>62.0</td>\n",
              "      <td>0</td>\n",
              "      <td>61</td>\n",
              "      <td>1</td>\n",
              "      <td>38</td>\n",
              "      <td>1</td>\n",
              "      <td>155000.00</td>\n",
              "      <td>1.1</td>\n",
              "      <td>143.0</td>\n",
              "      <td>Male</td>\n",
              "      <td>Yes</td>\n",
              "      <td>270.0</td>\n",
              "      <td>0</td>\n",
              "    </tr>\n",
              "    <tr>\n",
              "      <th>295</th>\n",
              "      <td>295</td>\n",
              "      <td>55.0</td>\n",
              "      <td>0</td>\n",
              "      <td>1820</td>\n",
              "      <td>0</td>\n",
              "      <td>38</td>\n",
              "      <td>0</td>\n",
              "      <td>270000.00</td>\n",
              "      <td>1.2</td>\n",
              "      <td>NaN</td>\n",
              "      <td>Female</td>\n",
              "      <td>No</td>\n",
              "      <td>271.0</td>\n",
              "      <td>0</td>\n",
              "    </tr>\n",
              "    <tr>\n",
              "      <th>296</th>\n",
              "      <td>296</td>\n",
              "      <td>45.0</td>\n",
              "      <td>0</td>\n",
              "      <td>2060</td>\n",
              "      <td>1</td>\n",
              "      <td>60</td>\n",
              "      <td>0</td>\n",
              "      <td>742000.00</td>\n",
              "      <td>0.8</td>\n",
              "      <td>138.0</td>\n",
              "      <td>Female</td>\n",
              "      <td>No</td>\n",
              "      <td>278.0</td>\n",
              "      <td>0</td>\n",
              "    </tr>\n",
              "    <tr>\n",
              "      <th>297</th>\n",
              "      <td>297</td>\n",
              "      <td>45.0</td>\n",
              "      <td>0</td>\n",
              "      <td>2413</td>\n",
              "      <td>0</td>\n",
              "      <td>38</td>\n",
              "      <td>0</td>\n",
              "      <td>140000.00</td>\n",
              "      <td>1.4</td>\n",
              "      <td>140.0</td>\n",
              "      <td>Male</td>\n",
              "      <td>Yes</td>\n",
              "      <td>280.0</td>\n",
              "      <td>0</td>\n",
              "    </tr>\n",
              "    <tr>\n",
              "      <th>298</th>\n",
              "      <td>298</td>\n",
              "      <td>50.0</td>\n",
              "      <td>0</td>\n",
              "      <td>196</td>\n",
              "      <td>0</td>\n",
              "      <td>45</td>\n",
              "      <td>0</td>\n",
              "      <td>395000.00</td>\n",
              "      <td>1.6</td>\n",
              "      <td>136.0</td>\n",
              "      <td>Male</td>\n",
              "      <td>Yes</td>\n",
              "      <td>NaN</td>\n",
              "      <td>0</td>\n",
              "    </tr>\n",
              "  </tbody>\n",
              "</table>\n",
              "<p>299 rows × 14 columns</p>\n",
              "</div>"
            ],
            "text/plain": [
              "     Unnamed: 0   age  anaemia  ...  smoking   time  DEATH_EVENT\n",
              "0             0  75.0        0  ...       No    4.0            1\n",
              "1             1  55.0        0  ...       No    6.0            1\n",
              "2             2  65.0        0  ...      Yes    7.0            1\n",
              "3             3  50.0        1  ...       No    7.0            1\n",
              "4             4  65.0        1  ...       No    8.0            1\n",
              "..          ...   ...      ...  ...      ...    ...          ...\n",
              "294         294  62.0        0  ...      Yes  270.0            0\n",
              "295         295  55.0        0  ...       No  271.0            0\n",
              "296         296  45.0        0  ...       No  278.0            0\n",
              "297         297  45.0        0  ...      Yes  280.0            0\n",
              "298         298  50.0        0  ...      Yes    NaN            0\n",
              "\n",
              "[299 rows x 14 columns]"
            ]
          },
          "metadata": {
            "tags": []
          },
          "execution_count": 395
        }
      ]
    },
    {
      "cell_type": "code",
      "metadata": {
        "colab": {
          "base_uri": "https://localhost:8080/"
        },
        "id": "XwMv751KpSdG",
        "outputId": "fb7d0c51-ff7a-4cf2-9b76-1abb9649e41f"
      },
      "source": [
        "dt.shape"
      ],
      "execution_count": 396,
      "outputs": [
        {
          "output_type": "execute_result",
          "data": {
            "text/plain": [
              "(299, 14)"
            ]
          },
          "metadata": {
            "tags": []
          },
          "execution_count": 396
        }
      ]
    },
    {
      "cell_type": "code",
      "metadata": {
        "colab": {
          "base_uri": "https://localhost:8080/"
        },
        "id": "Ps8fBiU7pWH2",
        "outputId": "64840bf9-071c-4ffc-b935-12cb835e279e"
      },
      "source": [
        "#Finding number of null values in the dataset\n",
        "dt.isnull().sum()"
      ],
      "execution_count": 397,
      "outputs": [
        {
          "output_type": "execute_result",
          "data": {
            "text/plain": [
              "Unnamed: 0                  0\n",
              "age                         0\n",
              "anaemia                     0\n",
              "creatinine_phosphokinase    0\n",
              "diabetes                    0\n",
              "ejection_fraction           0\n",
              "high_blood_pressure         0\n",
              "platelets                   0\n",
              "serum_creatinine            0\n",
              "serum_sodium                6\n",
              "sex                         0\n",
              "smoking                     0\n",
              "time                        7\n",
              "DEATH_EVENT                 0\n",
              "dtype: int64"
            ]
          },
          "metadata": {
            "tags": []
          },
          "execution_count": 397
        }
      ]
    },
    {
      "cell_type": "code",
      "metadata": {
        "colab": {
          "base_uri": "https://localhost:8080/"
        },
        "id": "dAc1pes_palk",
        "outputId": "0a899aa1-ffcb-4011-e65e-ac175d012959"
      },
      "source": [
        "#dropping unwanted column as it was of no use.\n",
        "dt = dt.drop(['Unnamed: 0'],axis =1)\n",
        "dt.shape"
      ],
      "execution_count": 398,
      "outputs": [
        {
          "output_type": "execute_result",
          "data": {
            "text/plain": [
              "(299, 13)"
            ]
          },
          "metadata": {
            "tags": []
          },
          "execution_count": 398
        }
      ]
    },
    {
      "cell_type": "code",
      "metadata": {
        "colab": {
          "base_uri": "https://localhost:8080/"
        },
        "id": "CQ8FJ34Gpj5T",
        "outputId": "dc8604f6-4c7a-412b-a989-ea1e845ca800"
      },
      "source": [
        "dt.isnull().sum()"
      ],
      "execution_count": 399,
      "outputs": [
        {
          "output_type": "execute_result",
          "data": {
            "text/plain": [
              "age                         0\n",
              "anaemia                     0\n",
              "creatinine_phosphokinase    0\n",
              "diabetes                    0\n",
              "ejection_fraction           0\n",
              "high_blood_pressure         0\n",
              "platelets                   0\n",
              "serum_creatinine            0\n",
              "serum_sodium                6\n",
              "sex                         0\n",
              "smoking                     0\n",
              "time                        7\n",
              "DEATH_EVENT                 0\n",
              "dtype: int64"
            ]
          },
          "metadata": {
            "tags": []
          },
          "execution_count": 399
        }
      ]
    },
    {
      "cell_type": "code",
      "metadata": {
        "colab": {
          "base_uri": "https://localhost:8080/"
        },
        "id": "pWXg1PR7pmyw",
        "outputId": "de0deab7-548b-4140-9ce7-6db9fc380e45"
      },
      "source": [
        "#creating subsets \n",
        "print(\"Number of rows with null values in serum_sodium:\", dt['serum_sodium'].isnull().sum())\n",
        "print(\"Number of rows with null values in time:\", dt['time'].isnull().sum())\n",
        "data_subset = dt[dt['serum_sodium'].notnull()]\n",
        "print(\"Shape after removing null values:\", data_subset.shape)"
      ],
      "execution_count": 400,
      "outputs": [
        {
          "output_type": "stream",
          "text": [
            "Number of rows with null values in serum_sodium: 6\n",
            "Number of rows with null values in time: 7\n",
            "Shape after removing null values: (293, 13)\n"
          ],
          "name": "stdout"
        }
      ]
    },
    {
      "cell_type": "code",
      "metadata": {
        "colab": {
          "base_uri": "https://localhost:8080/"
        },
        "id": "cD7I9VKXppPR",
        "outputId": "13f9dcb6-c680-4962-dd7b-2cf559933441"
      },
      "source": [
        "#removing null values\n",
        "print('Shape of Dataframe before dropping:', dt.shape)\n",
        "dt = dt.dropna(axis=0, subset = ['serum_sodium'])\n",
        "print('Shape of Dataframe after dropping:', dt.shape)"
      ],
      "execution_count": 401,
      "outputs": [
        {
          "output_type": "stream",
          "text": [
            "Shape of Dataframe before dropping: (299, 13)\n",
            "Shape of Dataframe after dropping: (293, 13)\n"
          ],
          "name": "stdout"
        }
      ]
    },
    {
      "cell_type": "code",
      "metadata": {
        "colab": {
          "base_uri": "https://localhost:8080/"
        },
        "id": "h4ZRI0giprt_",
        "outputId": "0729eed6-5917-4260-a1e3-6c557d0d2150"
      },
      "source": [
        "#creating subset\n",
        "data_subset = dt[dt['time'].notnull()]\n",
        "print(\"Shape after removing null values:\", data_subset.shape)"
      ],
      "execution_count": 402,
      "outputs": [
        {
          "output_type": "stream",
          "text": [
            "Shape after removing null values: (286, 13)\n"
          ],
          "name": "stdout"
        }
      ]
    },
    {
      "cell_type": "code",
      "metadata": {
        "colab": {
          "base_uri": "https://localhost:8080/"
        },
        "id": "JXYUGcAkpuxW",
        "outputId": "d3fc886d-f7bc-4fca-f1a5-8999da940187"
      },
      "source": [
        "#removing null values\n",
        "print('Shape of Dataframe before dropping:', dt.shape)\n",
        "dt = dt.dropna(axis=0, subset = ['time'])\n",
        "print('Shape of Dataframe after dropping:', dt.shape)"
      ],
      "execution_count": 403,
      "outputs": [
        {
          "output_type": "stream",
          "text": [
            "Shape of Dataframe before dropping: (293, 13)\n",
            "Shape of Dataframe after dropping: (286, 13)\n"
          ],
          "name": "stdout"
        }
      ]
    },
    {
      "cell_type": "code",
      "metadata": {
        "colab": {
          "base_uri": "https://localhost:8080/"
        },
        "id": "gWjiUr9Hpv7W",
        "outputId": "efcb9aa0-53de-4676-d3da-42a6193c28dd"
      },
      "source": [
        "#checking for null values abscenece \n",
        "dt.isnull().sum()"
      ],
      "execution_count": 404,
      "outputs": [
        {
          "output_type": "execute_result",
          "data": {
            "text/plain": [
              "age                         0\n",
              "anaemia                     0\n",
              "creatinine_phosphokinase    0\n",
              "diabetes                    0\n",
              "ejection_fraction           0\n",
              "high_blood_pressure         0\n",
              "platelets                   0\n",
              "serum_creatinine            0\n",
              "serum_sodium                0\n",
              "sex                         0\n",
              "smoking                     0\n",
              "time                        0\n",
              "DEATH_EVENT                 0\n",
              "dtype: int64"
            ]
          },
          "metadata": {
            "tags": []
          },
          "execution_count": 404
        }
      ]
    },
    {
      "cell_type": "code",
      "metadata": {
        "id": "8o6q4MZlpykH"
      },
      "source": [
        "#replacing/Encoding string data into numerical\n",
        "dt['sex'].replace({'Male':1, 'Female':0}, inplace=True)\n",
        "dt['smoking'].replace({'Yes':1, 'No':0}, inplace=True)\n"
      ],
      "execution_count": 405,
      "outputs": []
    },
    {
      "cell_type": "code",
      "metadata": {
        "id": "DzSfMi0Jp19N"
      },
      "source": [
        "#determinging features and Lables\n",
        "X = dt[['age','anaemia','creatinine_phosphokinase','diabetes','ejection_fraction','high_blood_pressure','platelets','serum_creatinine','serum_sodium','sex','smoking','time']]\n",
        "Y = dt[['DEATH_EVENT']]"
      ],
      "execution_count": 406,
      "outputs": []
    },
    {
      "cell_type": "code",
      "metadata": {
        "colab": {
          "base_uri": "https://localhost:8080/"
        },
        "id": "RUCXcQ_zp4rv",
        "outputId": "cb277352-cd1b-492c-97f7-b65be3a76cc6"
      },
      "source": [
        "from sklearn.model_selection import train_test_split #splitting dataset into Training set and Test set\n",
        "#import random\n",
        "#random.seed(42)\n",
        "X_train, X_test, Y_train, Y_test = train_test_split(X,Y,test_size=0.20,random_state=0)\n",
        "print(X_train.shape)\n",
        "print(X_test.shape)\n",
        "print(Y_train.shape)\n",
        "print(Y_test.shape)"
      ],
      "execution_count": 407,
      "outputs": [
        {
          "output_type": "stream",
          "text": [
            "(228, 12)\n",
            "(58, 12)\n",
            "(228, 1)\n",
            "(58, 1)\n"
          ],
          "name": "stdout"
        }
      ]
    },
    {
      "cell_type": "code",
      "metadata": {
        "id": "g2kVDa4iqKKt"
      },
      "source": [
        "from sklearn.preprocessing import MinMaxScaler\n",
        "scaler = MinMaxScaler() #calling the MinMax scaling algorithm and storing it.\n",
        "scaler.fit(X) #scaling the x training values of the dataset\n",
        "#dt_scale=pd.DataFrame(scaler.transform(X))\n",
        "X_train_scaled = scaler.transform(X_train) #storing the scaled and transformed values of X_train in another varibale\n",
        "X_test_scaled = scaler.transform(X_test) #storing the scaled and transformed values of X_test in another varibale"
      ],
      "execution_count": 408,
      "outputs": []
    },
    {
      "cell_type": "code",
      "metadata": {
        "id": "UUpdI-sXI5-e"
      },
      "source": [
        "#from sklearn.preprocessing import StandardScaler\n",
        "#scaler = StandardScaler()\n",
        "#scaler.fit(X_train)\n",
        "#X_train_scaled = scaler.transform(X_train)\n",
        "#X_test_scaled = scaler.transform(X_test)"
      ],
      "execution_count": 409,
      "outputs": []
    },
    {
      "cell_type": "code",
      "metadata": {
        "colab": {
          "base_uri": "https://localhost:8080/",
          "height": 282
        },
        "id": "buMMA3Edqa1D",
        "outputId": "357bcb0e-a14f-45d8-ed49-c5c6adc3a4d5"
      },
      "source": [
        "n=0\n",
        "plt.scatter (X[X.columns[n]],Y) # where n is the coloumn in X dataset you wish to visualise with your dataset\n",
        "                                # This is to just let you help visualise your data, its impossible to view the whole dataset together."
      ],
      "execution_count": 410,
      "outputs": [
        {
          "output_type": "execute_result",
          "data": {
            "text/plain": [
              "<matplotlib.collections.PathCollection at 0x7f817eb744e0>"
            ]
          },
          "metadata": {
            "tags": []
          },
          "execution_count": 410
        },
        {
          "output_type": "display_data",
          "data": {
            "image/png": "[encoded data removed]",
            "text/plain": [
              "<Figure size 432x288 with 1 Axes>"
            ]
          },
          "metadata": {
            "tags": [],
            "needs_background": "light"
          }
        }
      ]
    },
    {
      "cell_type": "code",
      "metadata": {
        "id": "fJqRWjD9_AOL"
      },
      "source": [
        "#from pandas.plotting import scatter_matrix\n",
        "#scatter_matrix(dt[['age','anaemia','creatinine_phosphokinase','diabetes','ejection_fraction','high_blood_pressure','platelets','serum_creatinine','serum_sodium','sex','smoking','time']], c=dt['DEATH_EVENT'], figsize=(12,12), alpha=1)"
      ],
      "execution_count": 411,
      "outputs": []
    },
    {
      "cell_type": "markdown",
      "metadata": {
        "id": "zHghS3_ibkdm"
      },
      "source": [
        "The next Steps are for Support Vector Machines.\n",
        "\n"
      ]
    },
    {
      "cell_type": "code",
      "metadata": {
        "colab": {
          "base_uri": "https://localhost:8080/"
        },
        "id": "aOTEk25RAO6c",
        "outputId": "38f06233-dcc0-41e0-c2db-5837a9a8da69"
      },
      "source": [
        "from sklearn.svm import SVC # Support Vector Machines \n",
        "svc = SVC(kernel='linear')\n",
        "svc.fit(X_train_scaled, Y_train)"
      ],
      "execution_count": 412,
      "outputs": [
        {
          "output_type": "stream",
          "text": [
            "/usr/local/lib/python3.6/dist-packages/sklearn/utils/validation.py:760: DataConversionWarning: A column-vector y was passed when a 1d array was expected. Please change the shape of y to (n_samples, ), for example using ravel().\n",
            "  y = column_or_1d(y, warn=True)\n"
          ],
          "name": "stderr"
        },
        {
          "output_type": "execute_result",
          "data": {
            "text/plain": [
              "SVC(C=1.0, break_ties=False, cache_size=200, class_weight=None, coef0=0.0,\n",
              "    decision_function_shape='ovr', degree=3, gamma='scale', kernel='linear',\n",
              "    max_iter=-1, probability=False, random_state=None, shrinking=True,\n",
              "    tol=0.001, verbose=False)"
            ]
          },
          "metadata": {
            "tags": []
          },
          "execution_count": 412
        }
      ]
    },
    {
      "cell_type": "code",
      "metadata": {
        "colab": {
          "base_uri": "https://localhost:8080/"
        },
        "id": "jsTyRyO1ERli",
        "outputId": "fb47bd7e-1b07-42cb-8170-ab0de1929cae"
      },
      "source": [
        "print(\"Training accuracy of the model is {:.2f}\".format(svc.score(X_train_scaled, Y_train)))\n",
        "print(\"Testing accuracy of the model is {:.2f}\".format(svc.score(X_test_scaled, Y_test)))\n",
        "predictions_svc = svc.predict(X_test_scaled)\n",
        "print(predictions_svc)\n",
        "score_svc = svc.score(X_test_scaled, Y_test) #made for plotting purposes later"
      ],
      "execution_count": 413,
      "outputs": [
        {
          "output_type": "stream",
          "text": [
            "Training accuracy of the model is 0.87\n",
            "Testing accuracy of the model is 0.79\n",
            "[0 0 0 0 0 1 0 0 1 0 0 0 1 1 1 0 0 0 0 0 0 0 0 0 0 1 0 0 1 0 0 1 1 0 1 0 0\n",
            " 0 0 1 1 0 0 0 0 0 0 0 0 0 0 0 0 0 1 0 0 1]\n"
          ],
          "name": "stdout"
        }
      ]
    },
    {
      "cell_type": "code",
      "metadata": {
        "colab": {
          "base_uri": "https://localhost:8080/",
          "height": 469
        },
        "id": "LI3JHkxxGDbg",
        "outputId": "e7ccfd92-97d0-4c9e-9314-3b205c6f1cf0"
      },
      "source": [
        "from sklearn.metrics import confusion_matrix #for seeing the True/False Positives/Negatives.\n",
        "mat=confusion_matrix(predictions_svc, Y_test)\n",
        "print(mat)\n",
        "from seaborn import heatmap\n",
        "heatmap(mat , cmap=\"Pastel1_r\", xticklabels=['DEATH_EVENT(Actual Positive)', 'DEATH_EVENT(Actual Negative)'], yticklabels=['DEATH_EVENT(Predicted Positive)','DEATH_EVENT(Predicted Negative)'], annot=True)"
      ],
      "execution_count": 414,
      "outputs": [
        {
          "output_type": "stream",
          "text": [
            "[[35  9]\n",
            " [ 3 11]]\n"
          ],
          "name": "stdout"
        },
        {
          "output_type": "execute_result",
          "data": {
            "text/plain": [
              "<matplotlib.axes._subplots.AxesSubplot at 0x7f817e2c2ac8>"
            ]
          },
          "metadata": {
            "tags": []
          },
          "execution_count": 414
        },
        {
          "output_type": "display_data",
          "data": {
            "image/png": "[encoded data removed]",
            "text/plain": [
              "<Figure size 432x288 with 2 Axes>"
            ]
          },
          "metadata": {
            "tags": [],
            "needs_background": "light"
          }
        }
      ]
    },
    {
      "cell_type": "markdown",
      "metadata": {
        "id": "0PGzmXSGbpzz"
      },
      "source": [
        "The Next Steps are for Neural Networks"
      ]
    },
    {
      "cell_type": "code",
      "metadata": {
        "colab": {
          "base_uri": "https://localhost:8080/"
        },
        "id": "RfoNGw-hbwRh",
        "outputId": "16984a62-90ec-4cd6-8d4b-dc517811606c"
      },
      "source": [
        "from sklearn.neural_network import MLPClassifier # Neural Networks\n",
        "nnc = MLPClassifier(hidden_layer_sizes=(10), activation='relu', max_iter=10000)\n",
        "nnc.fit(X_train_scaled, Y_train)"
      ],
      "execution_count": 415,
      "outputs": [
        {
          "output_type": "stream",
          "text": [
            "/usr/local/lib/python3.6/dist-packages/sklearn/neural_network/_multilayer_perceptron.py:934: DataConversionWarning: A column-vector y was passed when a 1d array was expected. Please change the shape of y to (n_samples, ), for example using ravel().\n",
            "  y = column_or_1d(y, warn=True)\n"
          ],
          "name": "stderr"
        },
        {
          "output_type": "execute_result",
          "data": {
            "text/plain": [
              "MLPClassifier(activation='relu', alpha=0.0001, batch_size='auto', beta_1=0.9,\n",
              "              beta_2=0.999, early_stopping=False, epsilon=1e-08,\n",
              "              hidden_layer_sizes=10, learning_rate='constant',\n",
              "              learning_rate_init=0.001, max_fun=15000, max_iter=10000,\n",
              "              momentum=0.9, n_iter_no_change=10, nesterovs_momentum=True,\n",
              "              power_t=0.5, random_state=None, shuffle=True, solver='adam',\n",
              "              tol=0.0001, validation_fraction=0.1, verbose=False,\n",
              "              warm_start=False)"
            ]
          },
          "metadata": {
            "tags": []
          },
          "execution_count": 415
        }
      ]
    },
    {
      "cell_type": "code",
      "metadata": {
        "colab": {
          "base_uri": "https://localhost:8080/"
        },
        "id": "KUt_kUjZjYNi",
        "outputId": "69b31dd1-0e6c-48ee-db88-d029277c8964"
      },
      "source": [
        "print(\"Training accuracy of the model is {:.2f}\".format(nnc.score(X_train_scaled, Y_train)))\n",
        "print(\"Testing accuracy of the model is {:.2f}\".format(nnc.score(X_test_scaled, Y_test)))\n",
        "predictions_nnc = nnc.predict(X_test_scaled)\n",
        "print(predictions_nnc)\n",
        "score_nnc = nnc.score(X_test_scaled, Y_test) #made for plotting purposes later"
      ],
      "execution_count": 416,
      "outputs": [
        {
          "output_type": "stream",
          "text": [
            "Training accuracy of the model is 0.86\n",
            "Testing accuracy of the model is 0.74\n",
            "[0 0 0 0 0 1 0 0 1 0 0 0 1 0 1 0 0 0 0 0 0 0 0 0 0 0 0 0 1 0 0 1 1 0 1 0 0\n",
            " 0 0 0 0 0 0 0 0 1 0 0 0 0 0 0 0 0 1 0 0 1]\n"
          ],
          "name": "stdout"
        }
      ]
    },
    {
      "cell_type": "code",
      "metadata": {
        "colab": {
          "base_uri": "https://localhost:8080/",
          "height": 469
        },
        "id": "MXFvsmSFz__y",
        "outputId": "107d6e52-03d3-4ba0-c458-f03a961697af"
      },
      "source": [
        "from sklearn.metrics import confusion_matrix #for seeing the True/False Positives/Negatives.\n",
        "mat=confusion_matrix(predictions_nnc, Y_test)\n",
        "print(mat)\n",
        "from seaborn import heatmap\n",
        "heatmap(mat , cmap=\"Pastel1_r\", xticklabels=['DEATH_EVENT(Actual Positive)', 'DEATH_EVENT(Actual Negative)'], yticklabels=['DEATH_EVENT(Predicted Positive)','DEATH_EVENT(Predicted Negative)'], annot=True)"
      ],
      "execution_count": 417,
      "outputs": [
        {
          "output_type": "stream",
          "text": [
            "[[35 12]\n",
            " [ 3  8]]\n"
          ],
          "name": "stdout"
        },
        {
          "output_type": "execute_result",
          "data": {
            "text/plain": [
              "<matplotlib.axes._subplots.AxesSubplot at 0x7f817e254ef0>"
            ]
          },
          "metadata": {
            "tags": []
          },
          "execution_count": 417
        },
        {
          "output_type": "display_data",
          "data": {
            "image/png": "[encoded data removed]",
            "text/plain": [
              "<Figure size 432x288 with 2 Axes>"
            ]
          },
          "metadata": {
            "tags": [],
            "needs_background": "light"
          }
        }
      ]
    },
    {
      "cell_type": "markdown",
      "metadata": {
        "id": "WUqyEDnu4Rq3"
      },
      "source": [
        "The Next Steps are for Ensemble Classifier (Random Forest)"
      ]
    },
    {
      "cell_type": "code",
      "metadata": {
        "colab": {
          "base_uri": "https://localhost:8080/"
        },
        "id": "II-Gu0Mj4gGT",
        "outputId": "efef6486-1e64-4adc-b24f-6829ec6eb1bb"
      },
      "source": [
        "from sklearn.ensemble import RandomForestClassifier\n",
        "rfc = RandomForestClassifier(n_estimators=10)\n",
        "rfc.fit(X_train_scaled, Y_train)"
      ],
      "execution_count": 418,
      "outputs": [
        {
          "output_type": "stream",
          "text": [
            "/usr/local/lib/python3.6/dist-packages/ipykernel_launcher.py:3: DataConversionWarning: A column-vector y was passed when a 1d array was expected. Please change the shape of y to (n_samples,), for example using ravel().\n",
            "  This is separate from the ipykernel package so we can avoid doing imports until\n"
          ],
          "name": "stderr"
        },
        {
          "output_type": "execute_result",
          "data": {
            "text/plain": [
              "RandomForestClassifier(bootstrap=True, ccp_alpha=0.0, class_weight=None,\n",
              "                       criterion='gini', max_depth=None, max_features='auto',\n",
              "                       max_leaf_nodes=None, max_samples=None,\n",
              "                       min_impurity_decrease=0.0, min_impurity_split=None,\n",
              "                       min_samples_leaf=1, min_samples_split=2,\n",
              "                       min_weight_fraction_leaf=0.0, n_estimators=10,\n",
              "                       n_jobs=None, oob_score=False, random_state=None,\n",
              "                       verbose=0, warm_start=False)"
            ]
          },
          "metadata": {
            "tags": []
          },
          "execution_count": 418
        }
      ]
    },
    {
      "cell_type": "code",
      "metadata": {
        "colab": {
          "base_uri": "https://localhost:8080/"
        },
        "id": "KmuWV-fs9yFX",
        "outputId": "fb3e3351-14a6-4090-ab6b-10eecd6b8b61"
      },
      "source": [
        "print(\"Training accuracy of the model is {:.2f}\".format(rfc.score(X_train_scaled, Y_train)))\n",
        "print(\"Testing accuracy of the model is {:.2f}\".format(rfc.score(X_test_scaled, Y_test)))\n",
        "predictions_rfc = rfc.predict(X_test_scaled)\n",
        "print(predictions_rfc)\n",
        "score_rfc = rfc.score(X_test_scaled, Y_test) #made for plotting purposes later"
      ],
      "execution_count": 419,
      "outputs": [
        {
          "output_type": "stream",
          "text": [
            "Training accuracy of the model is 0.99\n",
            "Testing accuracy of the model is 0.78\n",
            "[1 0 0 0 0 1 0 0 1 1 0 0 1 0 1 0 0 0 0 0 0 0 0 0 0 0 0 0 1 0 0 1 1 0 0 0 0\n",
            " 0 1 1 0 0 0 0 0 0 0 0 0 0 1 0 0 0 0 0 0 1]\n"
          ],
          "name": "stdout"
        }
      ]
    },
    {
      "cell_type": "code",
      "metadata": {
        "colab": {
          "base_uri": "https://localhost:8080/",
          "height": 469
        },
        "id": "Mct8skFn99V2",
        "outputId": "f5f465fd-83c2-4409-f4dd-baa742e63b02"
      },
      "source": [
        "from sklearn.metrics import confusion_matrix #for seeing the True/False Positives/Negatives.\n",
        "mat=confusion_matrix(predictions_rfc, Y_test)\n",
        "print(mat)\n",
        "from seaborn import heatmap\n",
        "heatmap(mat , cmap=\"Pastel1_r\", xticklabels=['DEATH_EVENT(Actual Positive)', 'DEATH_EVENT(Actual Negative)'], yticklabels=['DEATH_EVENT(Predicted Positive)','DEATH_EVENT(Predicted Negative)'], annot=True)"
      ],
      "execution_count": 420,
      "outputs": [
        {
          "output_type": "stream",
          "text": [
            "[[35 10]\n",
            " [ 3 10]]\n"
          ],
          "name": "stdout"
        },
        {
          "output_type": "execute_result",
          "data": {
            "text/plain": [
              "<matplotlib.axes._subplots.AxesSubplot at 0x7f817e16f518>"
            ]
          },
          "metadata": {
            "tags": []
          },
          "execution_count": 420
        },
        {
          "output_type": "display_data",
          "data": {
            "image/png": "[encoded data removed]",
            "text/plain": [
              "<Figure size 432x288 with 2 Axes>"
            ]
          },
          "metadata": {
            "tags": [],
            "needs_background": "light"
          }
        }
      ]
    },
    {
      "cell_type": "code",
      "metadata": {
        "id": "rpqO0xLe_u7m",
        "colab": {
          "base_uri": "https://localhost:8080/",
          "height": 295
        },
        "outputId": "b1c8e0c3-f531-4b7e-d732-b56cb54b60a4"
      },
      "source": [
        "accuracies = ['Support Vector Machines', 'Neural Networks', 'Random Forest']\n",
        "range = [score_svc, score_nnc, score_rfc]\n",
        "plt.bar(accuracies,range)\n",
        "plt.title('Scores of Classifiers without Dimensionality Reduction')\n",
        "plt.xlabel('Algorithms')\n",
        "plt.ylabel('Accuracy Scores')\n",
        "plt.show()"
      ],
      "execution_count": 421,
      "outputs": [
        {
          "output_type": "display_data",
          "data": {
            "image/png": "[encoded data removed]",
            "text/plain": [
              "<Figure size 432x288 with 1 Axes>"
            ]
          },
          "metadata": {
            "tags": [],
            "needs_background": "light"
          }
        }
      ]
    },
    {
      "cell_type": "markdown",
      "metadata": {
        "id": "iYJq8ps1O8q1"
      },
      "source": [
        "The Next part does all the above with PCA implemented"
      ]
    },
    {
      "cell_type": "code",
      "metadata": {
        "id": "IHFs49m3QeOM"
      },
      "source": [
        "from sklearn.decomposition import PCA\n",
        "pca = PCA(n_components=6)"
      ],
      "execution_count": 422,
      "outputs": []
    },
    {
      "cell_type": "code",
      "metadata": {
        "colab": {
          "base_uri": "https://localhost:8080/"
        },
        "id": "T84A4ziJ6hTH",
        "outputId": "913bf03b-f180-4631-ffcb-fde5c1b3063b"
      },
      "source": [
        "principal_components = pca.fit_transform(dt)\n",
        "print(principal_components)"
      ],
      "execution_count": 423,
      "outputs": [
        {
          "output_type": "stream",
          "text": [
            "[[ 1.51012033e+03  7.27876858e+03 -1.16227365e+02 -2.85581427e+00\n",
            "   4.86821360e+00  2.24171902e+00]\n",
            " [-9.98499413e+04 -4.09489522e+02 -1.21013510e+02  1.44298625e+01\n",
            "  -9.14362477e+00  5.52432275e+00]\n",
            " [-5.18499521e+04 -4.57133021e+02 -1.21260375e+02  2.28703450e+01\n",
            "   3.00783970e+00 -2.20695433e+00]\n",
            " ...\n",
            " [-1.06849959e+05 -4.92891083e+02  1.42144691e+02 -2.83203759e+00\n",
            "  -3.49702378e+00 -5.98919252e+00]\n",
            " [ 4.80150548e+05  1.35127721e+03  1.43533564e+02 -1.01542857e+01\n",
            "   1.48545957e+01  2.05986797e+00]\n",
            " [-1.21849338e+05  1.86306931e+03  1.55005335e+02  4.28882885e+00\n",
            "   8.99967861e+00 -2.11996484e+00]]\n"
          ],
          "name": "stdout"
        }
      ]
    },
    {
      "cell_type": "code",
      "metadata": {
        "colab": {
          "base_uri": "https://localhost:8080/"
        },
        "id": "Mvj9KWu17HDH",
        "outputId": "bb6f3430-c49d-4b00-f655-5e58e17202ef"
      },
      "source": [
        "pca.explained_variance_ratio_"
      ],
      "execution_count": 424,
      "outputs": [
        {
          "output_type": "execute_result",
          "data": {
            "text/plain": [
              "array([9.99891526e-01, 1.07787539e-04, 6.53457338e-07, 1.65009726e-08,\n",
              "       1.40583855e-08, 2.09295735e-09])"
            ]
          },
          "metadata": {
            "tags": []
          },
          "execution_count": 424
        }
      ]
    },
    {
      "cell_type": "code",
      "metadata": {
        "colab": {
          "base_uri": "https://localhost:8080/"
        },
        "id": "WBTYq3sV9LCb",
        "outputId": "045238ad-6bed-4b3c-aea8-3cad7b1a47f6"
      },
      "source": [
        "sum(pca.explained_variance_ratio_)"
      ],
      "execution_count": 425,
      "outputs": [
        {
          "output_type": "execute_result",
          "data": {
            "text/plain": [
              "0.9999999997472987"
            ]
          },
          "metadata": {
            "tags": []
          },
          "execution_count": 425
        }
      ]
    },
    {
      "cell_type": "code",
      "metadata": {
        "colab": {
          "base_uri": "https://localhost:8080/",
          "height": 436
        },
        "id": "rDqNcgGO9SVO",
        "outputId": "3bf9900f-813d-4d39-d986-cd1ed91c43e6"
      },
      "source": [
        "principal_dt= pd.DataFrame(data= principal_components, columns= [\"principle component 1\",\"principle component 2\", \"principle component 3\", \"principle component 4\", \"principle component 5\", \"principle component 6\"])\n",
        "principal_dt\n",
        "dt.reset_index(drop=True, inplace=True)\n",
        "main_dt= pd.concat([principal_dt, dt[[\"DEATH_EVENT\"]]], axis=1)\n",
        "main_dt"
      ],
      "execution_count": 426,
      "outputs": [
        {
          "output_type": "execute_result",
          "data": {
            "text/html": [
              "<div>\n",
              "<style scoped>\n",
              "    .dataframe tbody tr th:only-of-type {\n",
              "        vertical-align: middle;\n",
              "    }\n",
              "\n",
              "    .dataframe tbody tr th {\n",
              "        vertical-align: top;\n",
              "    }\n",
              "\n",
              "    .dataframe thead th {\n",
              "        text-align: right;\n",
              "    }\n",
              "</style>\n",
              "<table border=\"1\" class=\"dataframe\">\n",
              "  <thead>\n",
              "    <tr style=\"text-align: right;\">\n",
              "      <th></th>\n",
              "      <th>principle component 1</th>\n",
              "      <th>principle component 2</th>\n",
              "      <th>principle component 3</th>\n",
              "      <th>principle component 4</th>\n",
              "      <th>principle component 5</th>\n",
              "      <th>principle component 6</th>\n",
              "      <th>DEATH_EVENT</th>\n",
              "    </tr>\n",
              "  </thead>\n",
              "  <tbody>\n",
              "    <tr>\n",
              "      <th>0</th>\n",
              "      <td>1510.120332</td>\n",
              "      <td>7278.768577</td>\n",
              "      <td>-116.227365</td>\n",
              "      <td>-2.855814</td>\n",
              "      <td>4.868214</td>\n",
              "      <td>2.241719</td>\n",
              "      <td>1</td>\n",
              "    </tr>\n",
              "    <tr>\n",
              "      <th>1</th>\n",
              "      <td>-99849.941342</td>\n",
              "      <td>-409.489522</td>\n",
              "      <td>-121.013510</td>\n",
              "      <td>14.429863</td>\n",
              "      <td>-9.143625</td>\n",
              "      <td>5.524323</td>\n",
              "      <td>1</td>\n",
              "    </tr>\n",
              "    <tr>\n",
              "      <th>2</th>\n",
              "      <td>-51849.952129</td>\n",
              "      <td>-457.133021</td>\n",
              "      <td>-121.260375</td>\n",
              "      <td>22.870345</td>\n",
              "      <td>3.007840</td>\n",
              "      <td>-2.206954</td>\n",
              "      <td>1</td>\n",
              "    </tr>\n",
              "    <tr>\n",
              "      <th>3</th>\n",
              "      <td>65150.056567</td>\n",
              "      <td>-439.013064</td>\n",
              "      <td>-122.612272</td>\n",
              "      <td>15.918326</td>\n",
              "      <td>-11.728348</td>\n",
              "      <td>18.736469</td>\n",
              "      <td>1</td>\n",
              "    </tr>\n",
              "    <tr>\n",
              "      <th>4</th>\n",
              "      <td>-57849.968875</td>\n",
              "      <td>-519.605027</td>\n",
              "      <td>-121.432645</td>\n",
              "      <td>-16.117217</td>\n",
              "      <td>-18.495271</td>\n",
              "      <td>3.768437</td>\n",
              "      <td>1</td>\n",
              "    </tr>\n",
              "    <tr>\n",
              "      <th>...</th>\n",
              "      <td>...</td>\n",
              "      <td>...</td>\n",
              "      <td>...</td>\n",
              "      <td>...</td>\n",
              "      <td>...</td>\n",
              "      <td>...</td>\n",
              "      <td>...</td>\n",
              "    </tr>\n",
              "    <tr>\n",
              "      <th>281</th>\n",
              "      <td>120150.066608</td>\n",
              "      <td>-423.743019</td>\n",
              "      <td>127.078815</td>\n",
              "      <td>4.225356</td>\n",
              "      <td>2.249870</td>\n",
              "      <td>-2.641236</td>\n",
              "      <td>0</td>\n",
              "    </tr>\n",
              "    <tr>\n",
              "      <th>282</th>\n",
              "      <td>-82849.949179</td>\n",
              "      <td>-457.221997</td>\n",
              "      <td>141.728312</td>\n",
              "      <td>-0.499770</td>\n",
              "      <td>-6.679350</td>\n",
              "      <td>0.781099</td>\n",
              "      <td>0</td>\n",
              "    </tr>\n",
              "    <tr>\n",
              "      <th>283</th>\n",
              "      <td>-106849.959364</td>\n",
              "      <td>-492.891083</td>\n",
              "      <td>142.144691</td>\n",
              "      <td>-2.832038</td>\n",
              "      <td>-3.497024</td>\n",
              "      <td>-5.989193</td>\n",
              "      <td>0</td>\n",
              "    </tr>\n",
              "    <tr>\n",
              "      <th>284</th>\n",
              "      <td>480150.547833</td>\n",
              "      <td>1351.277211</td>\n",
              "      <td>143.533564</td>\n",
              "      <td>-10.154286</td>\n",
              "      <td>14.854596</td>\n",
              "      <td>2.059868</td>\n",
              "      <td>0</td>\n",
              "    </tr>\n",
              "    <tr>\n",
              "      <th>285</th>\n",
              "      <td>-121849.338196</td>\n",
              "      <td>1863.069307</td>\n",
              "      <td>155.005335</td>\n",
              "      <td>4.288829</td>\n",
              "      <td>8.999679</td>\n",
              "      <td>-2.119965</td>\n",
              "      <td>0</td>\n",
              "    </tr>\n",
              "  </tbody>\n",
              "</table>\n",
              "<p>286 rows × 7 columns</p>\n",
              "</div>"
            ],
            "text/plain": [
              "     principle component 1  ...  DEATH_EVENT\n",
              "0              1510.120332  ...            1\n",
              "1            -99849.941342  ...            1\n",
              "2            -51849.952129  ...            1\n",
              "3             65150.056567  ...            1\n",
              "4            -57849.968875  ...            1\n",
              "..                     ...  ...          ...\n",
              "281          120150.066608  ...            0\n",
              "282          -82849.949179  ...            0\n",
              "283         -106849.959364  ...            0\n",
              "284          480150.547833  ...            0\n",
              "285         -121849.338196  ...            0\n",
              "\n",
              "[286 rows x 7 columns]"
            ]
          },
          "metadata": {
            "tags": []
          },
          "execution_count": 426
        }
      ]
    },
    {
      "cell_type": "code",
      "metadata": {
        "id": "zYCxxGmhKZG_"
      },
      "source": [
        "#determinging features and Lables\n",
        "X_pca = main_dt[[\"principle component 1\",\"principle component 2\", \"principle component 3\", \"principle component 4\", \"principle component 5\", \"principle component 6\"]]\n",
        "Y_pca = main_dt[['DEATH_EVENT']]"
      ],
      "execution_count": 427,
      "outputs": []
    },
    {
      "cell_type": "code",
      "metadata": {
        "colab": {
          "base_uri": "https://localhost:8080/"
        },
        "id": "5ZKY2j38Xy69",
        "outputId": "e853cfde-6eb7-4bc0-cbf3-0b07478249a7"
      },
      "source": [
        "x_train, x_test, y_train, y_test = train_test_split(X_pca,Y_pca,test_size=0.2,random_state=0)\n",
        "print(x_train.shape)\n",
        "print(x_test.shape)\n",
        "print(y_train.shape)\n",
        "print(y_test.shape)"
      ],
      "execution_count": 428,
      "outputs": [
        {
          "output_type": "stream",
          "text": [
            "(228, 6)\n",
            "(58, 6)\n",
            "(228, 1)\n",
            "(58, 1)\n"
          ],
          "name": "stdout"
        }
      ]
    },
    {
      "cell_type": "markdown",
      "metadata": {
        "id": "O78a7GY4Z0zi"
      },
      "source": [
        "The next Steps are for Support Vector Machines with PCA.\n",
        "\n"
      ]
    },
    {
      "cell_type": "code",
      "metadata": {
        "colab": {
          "base_uri": "https://localhost:8080/"
        },
        "id": "rug4_U5RY2JL",
        "outputId": "113c48a9-7dcc-4ed5-93f2-6b9d6ca0bb10"
      },
      "source": [
        "from sklearn.svm import SVC # Support Vector Machines \n",
        "svc_pca = SVC(kernel = 'rbf')\n",
        "svc_pca.fit(x_train, y_train)"
      ],
      "execution_count": 429,
      "outputs": [
        {
          "output_type": "stream",
          "text": [
            "/usr/local/lib/python3.6/dist-packages/sklearn/utils/validation.py:760: DataConversionWarning: A column-vector y was passed when a 1d array was expected. Please change the shape of y to (n_samples, ), for example using ravel().\n",
            "  y = column_or_1d(y, warn=True)\n"
          ],
          "name": "stderr"
        },
        {
          "output_type": "execute_result",
          "data": {
            "text/plain": [
              "SVC(C=1.0, break_ties=False, cache_size=200, class_weight=None, coef0=0.0,\n",
              "    decision_function_shape='ovr', degree=3, gamma='scale', kernel='rbf',\n",
              "    max_iter=-1, probability=False, random_state=None, shrinking=True,\n",
              "    tol=0.001, verbose=False)"
            ]
          },
          "metadata": {
            "tags": []
          },
          "execution_count": 429
        }
      ]
    },
    {
      "cell_type": "code",
      "metadata": {
        "colab": {
          "base_uri": "https://localhost:8080/"
        },
        "id": "8_AIhFRPZEV8",
        "outputId": "85809d29-cddb-42ce-890c-e80967448833"
      },
      "source": [
        "print(\"Training accuracy of the model is {:.2f}\".format(svc_pca.score(x_train, y_train)))\n",
        "print(\"Testing accuracy of the model is {:.2f}\".format(svc_pca.score(x_test, y_test)))\n",
        "predictions_svc_pca = svc_pca.predict(x_test)\n",
        "print(predictions_svc_pca)\n",
        "score_svc_pca = svc_pca.score(x_test, y_test) #made for plotting purposes later"
      ],
      "execution_count": 430,
      "outputs": [
        {
          "output_type": "stream",
          "text": [
            "Training accuracy of the model is 0.70\n",
            "Testing accuracy of the model is 0.62\n",
            "[0 0 0 0 0 0 0 0 0 0 1 0 0 0 0 0 0 0 0 0 0 0 0 0 0 0 0 0 0 0 0 0 0 0 0 0 0\n",
            " 0 0 0 0 0 0 0 0 0 0 0 0 0 0 0 1 0 0 0 0 0]\n"
          ],
          "name": "stdout"
        }
      ]
    },
    {
      "cell_type": "code",
      "metadata": {
        "colab": {
          "base_uri": "https://localhost:8080/",
          "height": 469
        },
        "id": "ojJ5N-GzaHHM",
        "outputId": "e0c15184-97db-4d9d-94ae-0e776a2d8ece"
      },
      "source": [
        "from sklearn.metrics import confusion_matrix #for seeing the True/False Positives/Negatives.\n",
        "mat=confusion_matrix(predictions_svc, Y_test)\n",
        "print(mat)\n",
        "from seaborn import heatmap\n",
        "heatmap(mat , cmap=\"Pastel1_r\", xticklabels=['DEATH_EVENT(Actual Positive)', 'DEATH_EVENT(Actual Negative)'], yticklabels=['DEATH_EVENT(Predicted Positive)','DEATH_EVENT(Predicted Negative)'], annot=True)"
      ],
      "execution_count": 431,
      "outputs": [
        {
          "output_type": "stream",
          "text": [
            "[[35  9]\n",
            " [ 3 11]]\n"
          ],
          "name": "stdout"
        },
        {
          "output_type": "execute_result",
          "data": {
            "text/plain": [
              "<matplotlib.axes._subplots.AxesSubplot at 0x7f817e19a2e8>"
            ]
          },
          "metadata": {
            "tags": []
          },
          "execution_count": 431
        },
        {
          "output_type": "display_data",
          "data": {
            "image/png": "[encoded data removed]",
            "text/plain": [
              "<Figure size 432x288 with 2 Axes>"
            ]
          },
          "metadata": {
            "tags": [],
            "needs_background": "light"
          }
        }
      ]
    },
    {
      "cell_type": "markdown",
      "metadata": {
        "id": "SYchWFGwaqCa"
      },
      "source": [
        "The next Steps are for Neural Networks with PCA.\n",
        "\n"
      ]
    },
    {
      "cell_type": "code",
      "metadata": {
        "colab": {
          "base_uri": "https://localhost:8080/"
        },
        "id": "dJbkgnv8auQ3",
        "outputId": "ded68db0-78c1-46cb-fa8a-3fc86564bb67"
      },
      "source": [
        "#from sklearn.neural_network import MLPClassifier # Neural Networks\n",
        "nnc_pca = MLPClassifier(hidden_layer_sizes=(10), activation='relu', max_iter=10000)\n",
        "nnc_pca.fit(x_train, y_train)"
      ],
      "execution_count": 432,
      "outputs": [
        {
          "output_type": "stream",
          "text": [
            "/usr/local/lib/python3.6/dist-packages/sklearn/neural_network/_multilayer_perceptron.py:934: DataConversionWarning: A column-vector y was passed when a 1d array was expected. Please change the shape of y to (n_samples, ), for example using ravel().\n",
            "  y = column_or_1d(y, warn=True)\n"
          ],
          "name": "stderr"
        },
        {
          "output_type": "execute_result",
          "data": {
            "text/plain": [
              "MLPClassifier(activation='relu', alpha=0.0001, batch_size='auto', beta_1=0.9,\n",
              "              beta_2=0.999, early_stopping=False, epsilon=1e-08,\n",
              "              hidden_layer_sizes=10, learning_rate='constant',\n",
              "              learning_rate_init=0.001, max_fun=15000, max_iter=10000,\n",
              "              momentum=0.9, n_iter_no_change=10, nesterovs_momentum=True,\n",
              "              power_t=0.5, random_state=None, shuffle=True, solver='adam',\n",
              "              tol=0.0001, validation_fraction=0.1, verbose=False,\n",
              "              warm_start=False)"
            ]
          },
          "metadata": {
            "tags": []
          },
          "execution_count": 432
        }
      ]
    },
    {
      "cell_type": "code",
      "metadata": {
        "colab": {
          "base_uri": "https://localhost:8080/"
        },
        "id": "Fus92BoGa09u",
        "outputId": "f1fc794e-0b2d-4821-cd44-f23fe6c7d1d2"
      },
      "source": [
        "print(\"Training accuracy of the model is {:.2f}\".format(nnc_pca.score(x_train, y_train)))\n",
        "print(\"Testing accuracy of the model is {:.2f}\".format(nnc_pca.score(x_test, y_test)))\n",
        "predictions_nnc_pca = nnc_pca.predict(x_test)\n",
        "print(predictions_nnc_pca)\n",
        "score_nnc_pca = nnc_pca.score(x_test, y_test) #made for plotting purposes later"
      ],
      "execution_count": 433,
      "outputs": [
        {
          "output_type": "stream",
          "text": [
            "Training accuracy of the model is 0.65\n",
            "Testing accuracy of the model is 0.69\n",
            "[1 0 1 0 0 0 1 0 1 0 0 0 0 0 1 0 0 0 0 0 1 0 0 0 0 0 0 0 1 0 1 0 1 0 1 0 0\n",
            " 1 0 1 1 1 0 0 0 1 0 0 0 0 1 0 0 0 0 0 0 0]\n"
          ],
          "name": "stdout"
        }
      ]
    },
    {
      "cell_type": "code",
      "metadata": {
        "colab": {
          "base_uri": "https://localhost:8080/",
          "height": 465
        },
        "id": "xP0yOnGRa8yO",
        "outputId": "182305a1-b475-428a-abeb-085ea4ba56c3"
      },
      "source": [
        "from sklearn.metrics import confusion_matrix #for seeing the True/False Positives/Negatives.\n",
        "mat=confusion_matrix(predictions_nnc_pca, y_test)\n",
        "print(mat)\n",
        "from seaborn import heatmap\n",
        "heatmap(mat , cmap=\"Pastel1_r\", xticklabels=['DEATH_EVENT(Actual Positive)', 'DEATH_EVENT(Actual Negative)'], yticklabels=['DEATH_EVENT(Predicted Positive)','DEATH_EVENT(Predicted Negative)'], annot=True)"
      ],
      "execution_count": 434,
      "outputs": [
        {
          "output_type": "stream",
          "text": [
            "[[31 11]\n",
            " [ 7  9]]\n"
          ],
          "name": "stdout"
        },
        {
          "output_type": "execute_result",
          "data": {
            "text/plain": [
              "<matplotlib.axes._subplots.AxesSubplot at 0x7f817dfe5898>"
            ]
          },
          "metadata": {
            "tags": []
          },
          "execution_count": 434
        },
        {
          "output_type": "display_data",
          "data": {
            "image/png": "[encoded data removed]",
            "text/plain": [
              "<Figure size 432x288 with 2 Axes>"
            ]
          },
          "metadata": {
            "tags": [],
            "needs_background": "light"
          }
        }
      ]
    },
    {
      "cell_type": "markdown",
      "metadata": {
        "id": "4WMbgp8teQJP"
      },
      "source": [
        "The next Steps are for Ensemble Classifier (Random Forest) with PCA.\n",
        "\n"
      ]
    },
    {
      "cell_type": "code",
      "metadata": {
        "colab": {
          "base_uri": "https://localhost:8080/"
        },
        "id": "esnWAmjseaRe",
        "outputId": "71a7a9a6-3c23-41a2-d813-b094b6a5e1a9"
      },
      "source": [
        "#from sklearn.ensemble import RandomForestClassifier\n",
        "rfc_pca = RandomForestClassifier(n_estimators=10)\n",
        "rfc_pca.fit(x_train, y_train)"
      ],
      "execution_count": 435,
      "outputs": [
        {
          "output_type": "stream",
          "text": [
            "/usr/local/lib/python3.6/dist-packages/ipykernel_launcher.py:3: DataConversionWarning: A column-vector y was passed when a 1d array was expected. Please change the shape of y to (n_samples,), for example using ravel().\n",
            "  This is separate from the ipykernel package so we can avoid doing imports until\n"
          ],
          "name": "stderr"
        },
        {
          "output_type": "execute_result",
          "data": {
            "text/plain": [
              "RandomForestClassifier(bootstrap=True, ccp_alpha=0.0, class_weight=None,\n",
              "                       criterion='gini', max_depth=None, max_features='auto',\n",
              "                       max_leaf_nodes=None, max_samples=None,\n",
              "                       min_impurity_decrease=0.0, min_impurity_split=None,\n",
              "                       min_samples_leaf=1, min_samples_split=2,\n",
              "                       min_weight_fraction_leaf=0.0, n_estimators=10,\n",
              "                       n_jobs=None, oob_score=False, random_state=None,\n",
              "                       verbose=0, warm_start=False)"
            ]
          },
          "metadata": {
            "tags": []
          },
          "execution_count": 435
        }
      ]
    },
    {
      "cell_type": "code",
      "metadata": {
        "colab": {
          "base_uri": "https://localhost:8080/"
        },
        "id": "wjlX7MHsec28",
        "outputId": "fd3e3d58-6ff7-40cb-88a2-62a9d099ce37"
      },
      "source": [
        "print(\"Training accuracy of the model is {:.2f}\".format(rfc_pca.score(x_train, y_train)))\n",
        "print(\"Testing accuracy of the model is {:.2f}\".format(rfc_pca.score(x_test, y_test)))\n",
        "predictions_rfc_pca = rfc_pca.predict(x_test)\n",
        "print(predictions_rfc_pca)\n",
        "score_rfc_pca = rfc_pca.score(x_test, y_test) #made for plotting purposes later"
      ],
      "execution_count": 436,
      "outputs": [
        {
          "output_type": "stream",
          "text": [
            "Training accuracy of the model is 0.99\n",
            "Testing accuracy of the model is 0.79\n",
            "[1 0 0 0 0 1 0 0 1 1 0 0 1 0 1 0 0 0 0 0 0 0 0 0 0 0 0 0 0 0 1 1 1 0 0 0 0\n",
            " 0 1 1 0 1 0 0 0 0 0 0 0 0 0 0 0 1 0 0 0 1]\n"
          ],
          "name": "stdout"
        }
      ]
    },
    {
      "cell_type": "code",
      "metadata": {
        "colab": {
          "base_uri": "https://localhost:8080/",
          "height": 469
        },
        "id": "O09Vf6nLehB2",
        "outputId": "03859270-83d9-46fd-9a9f-63cb5d108140"
      },
      "source": [
        "from sklearn.metrics import confusion_matrix #for seeing the True/False Positives/Negatives.\n",
        "mat=confusion_matrix(predictions_rfc_pca, y_test)\n",
        "print(mat)\n",
        "from seaborn import heatmap\n",
        "heatmap(mat , cmap=\"Pastel1_r\", xticklabels=['DEATH_EVENT(Actual Positive)', 'DEATH_EVENT(Actual Negative)'], yticklabels=['DEATH_EVENT(Predicted Positive)','DEATH_EVENT(Predicted Negative)'], annot=True)"
      ],
      "execution_count": 437,
      "outputs": [
        {
          "output_type": "stream",
          "text": [
            "[[35  9]\n",
            " [ 3 11]]\n"
          ],
          "name": "stdout"
        },
        {
          "output_type": "execute_result",
          "data": {
            "text/plain": [
              "<matplotlib.axes._subplots.AxesSubplot at 0x7f817df7a860>"
            ]
          },
          "metadata": {
            "tags": []
          },
          "execution_count": 437
        },
        {
          "output_type": "display_data",
          "data": {
            "image/png": "[encoded data removed]",
            "text/plain": [
              "<Figure size 432x288 with 2 Axes>"
            ]
          },
          "metadata": {
            "tags": [],
            "needs_background": "light"
          }
        }
      ]
    },
    {
      "cell_type": "code",
      "metadata": {
        "colab": {
          "base_uri": "https://localhost:8080/",
          "height": 295
        },
        "id": "WwnX-apbgQh0",
        "outputId": "07ce209b-eef0-4730-9af1-c4a2a085ca16"
      },
      "source": [
        "accuracies = ['Support Vector Machines', 'Neural Networks', 'Random Forest']\n",
        "range = [score_svc_pca, score_nnc_pca, score_rfc_pca]\n",
        "plt.bar(accuracies,range)\n",
        "plt.title('Scores of Classifiers with Dimensionality Reduction')\n",
        "plt.xlabel('Algorithms')\n",
        "plt.ylabel('Accuracy Scores')\n",
        "plt.show()"
      ],
      "execution_count": 438,
      "outputs": [
        {
          "output_type": "display_data",
          "data": {
            "image/png": "[encoded data removed]",
            "text/plain": [
              "<Figure size 432x288 with 1 Axes>"
            ]
          },
          "metadata": {
            "tags": [],
            "needs_background": "light"
          }
        }
      ]
    },
    {
      "cell_type": "code",
      "metadata": {
        "colab": {
          "base_uri": "https://localhost:8080/",
          "height": 330
        },
        "id": "r_4PR5K6pldb",
        "outputId": "952b1d74-1646-4183-868a-0c82d8a2c2ea"
      },
      "source": [
        "accuracies1 = ['Support\\nVector\\nMachine', 'Support\\nVector\\nMachine\\n(PCA)']\n",
        "accuracies2 = ['Neural\\nNetworks', 'Neural\\nNetworks\\n(PCA)']\n",
        "accuracies3 = ['Random\\nForest', 'Random\\nForest\\n(PCA)']\n",
        "bar1 = [score_svc, score_svc_pca]\n",
        "bar2 = [score_nnc, score_nnc_pca]\n",
        "bar3 = [score_rfc, score_rfc_pca]\n",
        "#range = [score_svc, score_svc_pca, score_nnc, score_nnc_pca, score_rfc, score_rfc_pca]\n",
        "barWidth = 0.25\n",
        "plt.bar(accuracies1, bar1, width=barWidth)\n",
        "plt.bar(accuracies2, bar2, width=barWidth)\n",
        "plt.bar(accuracies3, bar3, width=barWidth)\n",
        "plt.title('Scores of Classifiers with Dimensionality Reduction')\n",
        "plt.xlabel('Algorithms')\n",
        "plt.ylabel('Accuracy Scores')\n",
        "plt.show()"
      ],
      "execution_count": 439,
      "outputs": [
        {
          "output_type": "display_data",
          "data": {
            "image/png": "[encoded data removed]",
            "text/plain": [
              "<Figure size 432x288 with 1 Axes>"
            ]
          },
          "metadata": {
            "tags": [],
            "needs_background": "light"
          }
        }
      ]
    }
  ]
}